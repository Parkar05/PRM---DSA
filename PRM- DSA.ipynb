{
 "cells": [
  {
   "cell_type": "code",
   "execution_count": null,
   "id": "0f8f4126",
   "metadata": {},
   "outputs": [],
   "source": [
    "#Given a string str, your task is to write a program which takes a string str as its only input and returns an integer\n",
    "#denoting the no of palindromic subsequence (need not necessarily be distinct) which could be formed from the string str.\n",
    "\n",
    "#Input Format:\n",
    "\n",
    "#The first and only line of input contains string str.\n",
    "\n",
    "#Output Format:\n",
    "\n",
    "#The output will be an integer denoting the no of palindromic subsequence which could be formed from the string str.\n",
    "\n",
    "#Sample Input :\n",
    "\n",
    "#abcdef\n",
    "\n",
    "#Sample Output :\n",
    "\n",
    "#6\n",
    "\n",
    "#Explanation:\n",
    "\n",
    "#For string 'abcdef' palindromic subsequence are : \"a\" ,\"b\", \"c\" ,\"d\",\"e\",\"f\"\n"
   ]
  },
  {
   "cell_type": "code",
   "execution_count": 11,
   "id": "e3a11893",
   "metadata": {},
   "outputs": [
    {
     "name": "stdout",
     "output_type": "stream",
     "text": [
      "Enter a string :abcdef\n",
      "Total palindromic subsequence are :  6\n"
     ]
    }
   ],
   "source": [
    "def palindromic(m):\n",
    " \n",
    "    N = len(m)\n",
    "    \n",
    "    x = [[0 for i in range(N + 2)]for j in range(N + 2)]\n",
    "    \n",
    "    for i in range(N):\n",
    "        x[i][i] = 1\n",
    "        \n",
    "    for L in range(2, N + 1):\n",
    " \n",
    "        for i in range(N):\n",
    "            k = L + i - 1\n",
    "            if (k < N):\n",
    "                if (str[i] == str[k]):\n",
    "                    x[i][k] = (x[i][k - 1] + x[i + 1][k] + 1)\n",
    "                                \n",
    "                else:\n",
    "                    x[i][k] = (x[i][k - 1] + x[i + 1][k] - x[i + 1][k - 1])\n",
    "                                \n",
    "    return x[0][N - 1]\n",
    " \n",
    " \n",
    "\n",
    "m = input(\"Enter a string :\")\n",
    "print(\"Total palindromic subsequence are : \", palindromic (m))"
   ]
  }
 ],
 "metadata": {
  "kernelspec": {
   "display_name": "Python 3 (ipykernel)",
   "language": "python",
   "name": "python3"
  },
  "language_info": {
   "codemirror_mode": {
    "name": "ipython",
    "version": 3
   },
   "file_extension": ".py",
   "mimetype": "text/x-python",
   "name": "python",
   "nbconvert_exporter": "python",
   "pygments_lexer": "ipython3",
   "version": "3.9.12"
  }
 },
 "nbformat": 4,
 "nbformat_minor": 5
}
